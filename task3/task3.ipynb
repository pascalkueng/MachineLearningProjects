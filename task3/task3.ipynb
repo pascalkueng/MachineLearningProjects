{
 "cells": [
  {
   "cell_type": "code",
   "execution_count": 61,
   "metadata": {
    "colab": {
     "base_uri": "https://localhost:8080/",
     "height": 54
    },
    "colab_type": "code",
    "id": "qbfcUFY8Sd1h",
    "outputId": "3b27abff-40f3-473f-9331-0cc14a7cb84c"
   },
   "outputs": [],
   "source": [
    "# Imports\n",
    "import pandas as pd\n",
    "import numpy as np\n",
    "import tensorflow as tf\n",
    "from tensorflow.keras import layers\n",
    "from tensorflow import keras \n",
    "from keras.models import Sequential\n",
    "from keras.layers import Dense\n",
    "from keras.wrappers.scikit_learn import KerasClassifier\n",
    "from keras.layers import Dropout\n",
    "from keras.utils import to_categorical\n",
    "from sklearn.preprocessing import OneHotEncoder \n",
    "from sklearn.metrics import f1_score"
   ]
  },
  {
   "cell_type": "code",
   "execution_count": 62,
   "metadata": {
    "colab": {},
    "colab_type": "code",
    "id": "_YwxMHeSSpKf"
   },
   "outputs": [],
   "source": [
    "# Read Input\n",
    "rows_train = 112000 # Max 112'000\n",
    "train = pd.read_csv('train.csv', nrows = rows_train)"
   ]
  },
  {
   "cell_type": "code",
   "execution_count": 63,
   "metadata": {
    "colab": {},
    "colab_type": "code",
    "id": "tJDCIuk-IRln"
   },
   "outputs": [],
   "source": [
    "# Map letter to category\n",
    "\n",
    "def map_to_cat(letter):\n",
    "  if letter == 'R' or letter == 'H' or letter == 'K': # AA with positively charged side chains\n",
    "    return 'B'\n",
    "  elif letter == 'D' or letter == 'E': # AA with negatively charged side chains\n",
    "    return 'J'\n",
    "  elif letter == 'S' or letter == 'T' or letter == 'N' or letter == 'Q': # AA with polar uncharged side chains\n",
    "    return 'O'\n",
    "  elif letter == 'C' or letter == 'U' or letter == 'G' or letter == 'P': # special cases\n",
    "    return 'X'\n",
    "  else: # AA with hydrophobic side chains\n",
    "    return 'Z'"
   ]
  },
  {
   "cell_type": "code",
   "execution_count": 64,
   "metadata": {
    "colab": {},
    "colab_type": "code",
    "id": "z6d7eOFgUmpD"
   },
   "outputs": [],
   "source": [
    "alphabet    = 'ABCDEFGHIJKLMNOPQRSTUVWXYZ'\n",
    "char_to_int = dict((c, i) for i, c in enumerate(alphabet))\n",
    "train_tf    = train.values\n",
    "X_train     = train_tf[:,0]\n",
    "y_train     = train_tf[:,1]\n",
    "X_train_int = np.zeros((rows_train, 8))\n",
    "\n",
    "for i in range(rows_train):\n",
    "  letters = X_train[i]\n",
    "  letters = letters + map_to_cat(letters[0]) + map_to_cat(letters[1]) + map_to_cat(letters[2]) + map_to_cat(letters[3])\n",
    "  X_train_int[i,:]= [char_to_int[char] for char in letters]\n",
    "\n",
    "one_hot_train = tf.one_hot(X_train_int, 26, dtype=tf.uint8)\n"
   ]
  },
  {
   "cell_type": "code",
   "execution_count": 65,
   "metadata": {
    "colab": {},
    "colab_type": "code",
    "id": "_4kjCc-OrvV2"
   },
   "outputs": [],
   "source": [
    "X_train_np = np.array(one_hot_train)\n",
    "X_train_np.resize(rows_train,208)\n",
    "X_train_pd = pd.DataFrame(X_train_np)"
   ]
  },
  {
   "cell_type": "code",
   "execution_count": 70,
   "metadata": {
    "colab": {},
    "colab_type": "code",
    "id": "R5t8Z8cHEZdr"
   },
   "outputs": [],
   "source": [
    "from sklearn.model_selection import train_test_split\n",
    "\n",
    "x_training, x_valid, y_training, y_valid = train_test_split(X_train_np, y_train, test_size=0.01)"
   ]
  },
  {
   "cell_type": "code",
   "execution_count": 71,
   "metadata": {
    "colab": {
     "base_uri": "https://localhost:8080/",
     "height": 1000
    },
    "colab_type": "code",
    "id": "WtL3k_Ovpavw",
    "outputId": "060f91da-618d-4c56-c1cb-99f74b39a658"
   },
   "outputs": [
    {
     "name": "stdout",
     "output_type": "stream",
     "text": [
      "Epoch 1/50\n",
      "110880/110880 [==============================] - 2s 19us/step - loss: 0.0947 - accuracy: 0.9665\n",
      "Epoch 2/50\n",
      "110880/110880 [==============================] - 2s 15us/step - loss: 0.0448 - accuracy: 0.9823\n",
      "Epoch 3/50\n",
      "110880/110880 [==============================] - 2s 17us/step - loss: 0.0321 - accuracy: 0.9873\n",
      "Epoch 4/50\n",
      "110880/110880 [==============================] - 2s 14us/step - loss: 0.0263 - accuracy: 0.9897\n",
      "Epoch 5/50\n",
      "110880/110880 [==============================] - 2s 15us/step - loss: 0.0223 - accuracy: 0.9912\n",
      "Epoch 6/50\n",
      "110880/110880 [==============================] - 2s 15us/step - loss: 0.0195 - accuracy: 0.9923\n",
      "Epoch 7/50\n",
      "110880/110880 [==============================] - 2s 15us/step - loss: 0.0176 - accuracy: 0.9932\n",
      "Epoch 8/50\n",
      "110880/110880 [==============================] - 2s 17us/step - loss: 0.0159 - accuracy: 0.9937\n",
      "Epoch 9/50\n",
      "110880/110880 [==============================] - 2s 16us/step - loss: 0.0141 - accuracy: 0.9943\n",
      "Epoch 10/50\n",
      "110880/110880 [==============================] - 2s 17us/step - loss: 0.0138 - accuracy: 0.9946\n",
      "Epoch 11/50\n",
      "110880/110880 [==============================] - 2s 15us/step - loss: 0.0123 - accuracy: 0.9952\n",
      "Epoch 12/50\n",
      "110880/110880 [==============================] - 2s 15us/step - loss: 0.0114 - accuracy: 0.9955\n",
      "Epoch 13/50\n",
      "110880/110880 [==============================] - 2s 15us/step - loss: 0.0105 - accuracy: 0.9960\n",
      "Epoch 14/50\n",
      "110880/110880 [==============================] - 2s 15us/step - loss: 0.0105 - accuracy: 0.9959\n",
      "Epoch 15/50\n",
      "110880/110880 [==============================] - 2s 15us/step - loss: 0.0100 - accuracy: 0.9963\n",
      "Epoch 16/50\n",
      "110880/110880 [==============================] - 2s 15us/step - loss: 0.0096 - accuracy: 0.9964\n",
      "Epoch 17/50\n",
      "110880/110880 [==============================] - 2s 16us/step - loss: 0.0085 - accuracy: 0.9968\n",
      "Epoch 18/50\n",
      "110880/110880 [==============================] - 2s 16us/step - loss: 0.0086 - accuracy: 0.9966\n",
      "Epoch 19/50\n",
      "110880/110880 [==============================] - 2s 15us/step - loss: 0.0083 - accuracy: 0.9966\n",
      "Epoch 20/50\n",
      "110880/110880 [==============================] - 2s 15us/step - loss: 0.0075 - accuracy: 0.9971\n",
      "Epoch 21/50\n",
      "110880/110880 [==============================] - 2s 15us/step - loss: 0.0072 - accuracy: 0.9972\n",
      "Epoch 22/50\n",
      "110880/110880 [==============================] - 2s 17us/step - loss: 0.0075 - accuracy: 0.9970\n",
      "Epoch 23/50\n",
      "110880/110880 [==============================] - 2s 18us/step - loss: 0.0064 - accuracy: 0.9976\n",
      "Epoch 24/50\n",
      "110880/110880 [==============================] - 2s 17us/step - loss: 0.0073 - accuracy: 0.9972\n",
      "Epoch 25/50\n",
      "110880/110880 [==============================] - 2s 19us/step - loss: 0.0065 - accuracy: 0.9975\n",
      "Epoch 26/50\n",
      "110880/110880 [==============================] - 2s 20us/step - loss: 0.0056 - accuracy: 0.9979\n",
      "Epoch 27/50\n",
      "110880/110880 [==============================] - 2s 20us/step - loss: 0.0056 - accuracy: 0.9979\n",
      "Epoch 28/50\n",
      "110880/110880 [==============================] - 2s 19us/step - loss: 0.0059 - accuracy: 0.9978\n",
      "Epoch 29/50\n",
      "110880/110880 [==============================] - 2s 19us/step - loss: 0.0061 - accuracy: 0.9975\n",
      "Epoch 30/50\n",
      "110880/110880 [==============================] - 2s 20us/step - loss: 0.0054 - accuracy: 0.9979\n",
      "Epoch 31/50\n",
      "110880/110880 [==============================] - 2s 18us/step - loss: 0.0054 - accuracy: 0.9979\n",
      "Epoch 32/50\n",
      "110880/110880 [==============================] - 2s 20us/step - loss: 0.0055 - accuracy: 0.9981\n",
      "Epoch 33/50\n",
      "110880/110880 [==============================] - 2s 19us/step - loss: 0.0048 - accuracy: 0.9984\n",
      "Epoch 34/50\n",
      "110880/110880 [==============================] - 2s 19us/step - loss: 0.0050 - accuracy: 0.9981\n",
      "Epoch 35/50\n",
      "110880/110880 [==============================] - 2s 19us/step - loss: 0.0052 - accuracy: 0.9981\n",
      "Epoch 36/50\n",
      "110880/110880 [==============================] - 2s 19us/step - loss: 0.0052 - accuracy: 0.9981\n",
      "Epoch 37/50\n",
      "110880/110880 [==============================] - 2s 20us/step - loss: 0.0044 - accuracy: 0.9984\n",
      "Epoch 38/50\n",
      "110880/110880 [==============================] - 2s 20us/step - loss: 0.0044 - accuracy: 0.9984\n",
      "Epoch 39/50\n",
      "110880/110880 [==============================] - 2s 20us/step - loss: 0.0050 - accuracy: 0.9981\n",
      "Epoch 40/50\n",
      "110880/110880 [==============================] - 2s 20us/step - loss: 0.0039 - accuracy: 0.9986\n",
      "Epoch 41/50\n",
      "110880/110880 [==============================] - ETA: 0s - loss: 0.0041 - accuracy: 0.99 - 2s 20us/step - loss: 0.0042 - accuracy: 0.9984\n",
      "Epoch 42/50\n",
      "110880/110880 [==============================] - 3s 23us/step - loss: 0.0041 - accuracy: 0.9986\n",
      "Epoch 43/50\n",
      "110880/110880 [==============================] - 3s 25us/step - loss: 0.0039 - accuracy: 0.9985\n",
      "Epoch 44/50\n",
      "110880/110880 [==============================] - 2s 21us/step - loss: 0.0046 - accuracy: 0.9984\n",
      "Epoch 45/50\n",
      "110880/110880 [==============================] - 3s 24us/step - loss: 0.0040 - accuracy: 0.9986\n",
      "Epoch 46/50\n",
      "110880/110880 [==============================] - 2s 21us/step - loss: 0.0041 - accuracy: 0.9984\n",
      "Epoch 47/50\n",
      "110880/110880 [==============================] - 2s 22us/step - loss: 0.0041 - accuracy: 0.9984\n",
      "Epoch 48/50\n",
      "110880/110880 [==============================] - 2s 21us/step - loss: 0.0038 - accuracy: 0.9987\n",
      "Epoch 49/50\n",
      "110880/110880 [==============================] - 2s 22us/step - loss: 0.0040 - accuracy: 0.9985\n",
      "Epoch 50/50\n",
      "110880/110880 [==============================] - 3s 23us/step - loss: 0.0035 - accuracy: 0.9988\n"
     ]
    },
    {
     "data": {
      "text/plain": [
       "<keras.callbacks.callbacks.History at 0x7f5690071370>"
      ]
     },
     "execution_count": 71,
     "metadata": {},
     "output_type": "execute_result"
    }
   ],
   "source": [
    "model = Sequential()\n",
    "model.add(Dense(208, input_dim = 208, activation = 'relu'))\n",
    "model.add(Dropout(0.2, input_shape=(208,)))\n",
    "model.add(Dense(208, activation = 'relu'))\n",
    "model.add(Dropout(0.2, input_shape=(208,)))\n",
    "model.add(Dense(52, activation = 'relu'))\n",
    "model.add(Dropout(0.2, input_shape=(52,)))\n",
    "model.add(Dense(1, activation = 'sigmoid'))\n",
    "model.compile(loss='binary_crossentropy', optimizer='adam', metrics=['accuracy'])\n",
    "model.fit(x_training, y_training, epochs=50, batch_size=500)"
   ]
  },
  {
   "cell_type": "code",
   "execution_count": 72,
   "metadata": {
    "colab": {
     "base_uri": "https://localhost:8080/",
     "height": 34
    },
    "colab_type": "code",
    "id": "ik7OF9hy6bf7",
    "outputId": "995335a7-8ca1-4493-9d61-c40320290d2d"
   },
   "outputs": [
    {
     "data": {
      "text/plain": [
       "0.9156626506024096"
      ]
     },
     "execution_count": 72,
     "metadata": {},
     "output_type": "execute_result"
    }
   ],
   "source": [
    "model_predict = model.predict_classes(x_valid)\n",
    "y_predicted = pd.DataFrame(model_predict, dtype=int)\n",
    "y_true = pd.DataFrame(y_valid,dtype=int)\n",
    "score = f1_score(y_predicted, y_true)\n",
    "score"
   ]
  },
  {
   "cell_type": "markdown",
   "metadata": {
    "colab_type": "text",
    "id": "768rPPHIGxU3"
   },
   "source": [
    "Submission"
   ]
  },
  {
   "cell_type": "code",
   "execution_count": 73,
   "metadata": {
    "colab": {},
    "colab_type": "code",
    "id": "npSh5mZ5GbEK"
   },
   "outputs": [],
   "source": [
    "rows_test = 48000 # Max 48'000\n",
    "test = pd.read_csv('test.csv', nrows = rows_test)\n",
    "char_to_int = dict((c, i) for i, c in enumerate('ABCDEFGHIJKLMNOPQRSTUVWXYZ'))\n",
    "test_tf    = test.values\n",
    "X_test      = test_tf[:,0]\n",
    "X_test_int = np.zeros((48000, 8))\n",
    "\n",
    "for i in range(48000):\n",
    "  letters = X_test[i]\n",
    "  letters = letters + map_to_cat(letters[0]) + map_to_cat(letters[1]) + map_to_cat(letters[2]) + map_to_cat(letters[3])\n",
    "  X_test_int[i,:]= [char_to_int[char] for char in letters]\n",
    "\n",
    "one_hot_test = tf.one_hot(X_test_int, 26, dtype=tf.uint8)\n",
    "X_test_np = np.array(one_hot_test)\n",
    "X_test_np.resize(48000,208)\n",
    "X_test_pd = pd.DataFrame(X_test_np)"
   ]
  },
  {
   "cell_type": "code",
   "execution_count": 74,
   "metadata": {
    "colab": {},
    "colab_type": "code",
    "id": "J0x8mqqPGoIl"
   },
   "outputs": [],
   "source": [
    "prediction = pd.DataFrame(model.predict_classes(X_test_pd))\n",
    "prediction.round(0)\n",
    "np.savetxt(\"prediction.csv\", prediction, fmt=\"%d\")"
   ]
  },
  {
   "cell_type": "code",
   "execution_count": null,
   "metadata": {},
   "outputs": [],
   "source": []
  },
  {
   "cell_type": "code",
   "execution_count": null,
   "metadata": {},
   "outputs": [],
   "source": []
  },
  {
   "cell_type": "code",
   "execution_count": null,
   "metadata": {},
   "outputs": [],
   "source": []
  },
  {
   "cell_type": "code",
   "execution_count": null,
   "metadata": {},
   "outputs": [],
   "source": []
  },
  {
   "cell_type": "code",
   "execution_count": null,
   "metadata": {},
   "outputs": [],
   "source": []
  }
 ],
 "metadata": {
  "colab": {
   "collapsed_sections": [],
   "name": "task3.ipynb",
   "provenance": [],
   "toc_visible": true
  },
  "kernelspec": {
   "display_name": "Python 3",
   "language": "python",
   "name": "python3"
  },
  "language_info": {
   "codemirror_mode": {
    "name": "ipython",
    "version": 3
   },
   "file_extension": ".py",
   "mimetype": "text/x-python",
   "name": "python",
   "nbconvert_exporter": "python",
   "pygments_lexer": "ipython3",
   "version": "3.8.2"
  }
 },
 "nbformat": 4,
 "nbformat_minor": 1
}
