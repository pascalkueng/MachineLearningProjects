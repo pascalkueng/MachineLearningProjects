{
 "cells": [
  {
   "cell_type": "code",
   "execution_count": 42,
   "metadata": {},
   "outputs": [],
   "source": [
    "# Imports\n",
    "import pandas as pd\n",
    "import numpy as np\n",
    "from sklearn.metrics import mean_squared_error as mse\n",
    "from sklearn.linear_model import LassoCV"
   ]
  },
  {
   "cell_type": "code",
   "execution_count": 43,
   "metadata": {},
   "outputs": [],
   "source": [
    "# Read Input and compute other variables\n",
    "dataset = pd.read_csv('train.csv')\n",
    "X = dataset.iloc[:, 2:7]\n",
    "y = dataset.iloc[:, 1]\n",
    "X = X.reindex(columns = X.columns.tolist() + ['x12','x22','x32','x42','x52','ex1','ex2','ex3','ex4','ex5','cosx1','cosx2','cosx3','cosx4','cosx5','const'])\n",
    "X.x12 = X.x1 ** 2\n",
    "X.x22 = X.x2 ** 2\n",
    "X.x32 = X.x3 ** 2\n",
    "X.x42 = X.x4 ** 2\n",
    "X.x52 = X.x5 ** 2\n",
    "X.ex1 = np.exp(X.x1)\n",
    "X.ex2 = np.exp(X.x2)\n",
    "X.ex3 = np.exp(X.x3)\n",
    "X.ex4 = np.exp(X.x4)\n",
    "X.ex5 = np.exp(X.x5)\n",
    "X.cosx1 = np.cos(X.x1)\n",
    "X.cosx2 = np.cos(X.x2)\n",
    "X.cosx3 = np.cos(X.x3)\n",
    "X.cosx4 = np.cos(X.x4)\n",
    "X.cosx5 = np.cos(X.x5)\n",
    "X.const = 1"
   ]
  },
  {
   "cell_type": "code",
   "execution_count": 44,
   "metadata": {},
   "outputs": [],
   "source": [
    "# Perform lasso with 10-fold-cross-validation\n",
    "reg = LassoCV(max_iter = 1000000, cv=10, fit_intercept=False).fit(X,y)\n",
    "error = np.sqrt(mse(y, reg.predict(X)))"
   ]
  },
  {
   "cell_type": "code",
   "execution_count": 45,
   "metadata": {},
   "outputs": [],
   "source": [
    "np.savetxt(\"submission.csv\", reg.coef_, delimiter=\"\\n\")"
   ]
  },
  {
   "cell_type": "code",
   "execution_count": null,
   "metadata": {},
   "outputs": [],
   "source": []
  }
 ],
 "metadata": {
  "kernelspec": {
   "display_name": "Python 3.7.3 64-bit",
   "language": "python",
   "name": "python37364bit179e323545c844ae8cf8462c4a0e1710"
  },
  "language_info": {
   "codemirror_mode": {
    "name": "ipython",
    "version": 3
   },
   "file_extension": ".py",
   "mimetype": "text/x-python",
   "name": "python",
   "nbconvert_exporter": "python",
   "pygments_lexer": "ipython3",
   "version": "3.7.3"
  }
 },
 "nbformat": 4,
 "nbformat_minor": 2
}
